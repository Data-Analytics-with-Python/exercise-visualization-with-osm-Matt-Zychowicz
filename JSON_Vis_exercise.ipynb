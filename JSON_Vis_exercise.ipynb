{
  "cells": [
    {
      "cell_type": "markdown",
      "metadata": {
        "colab_type": "text",
        "id": "view-in-github"
      },
      "source": [
        "<a href=\"https://colab.research.google.com/github/zhouy185/JSON_VIS_Exercise/blob/main/JSON_Vis_exercise.ipynb\" target=\"_parent\"><img src=\"https://colab.research.google.com/assets/colab-badge.svg\" alt=\"Open In Colab\"/></a>"
      ]
    },
    {
      "cell_type": "markdown",
      "metadata": {
        "id": "5_o4pItc2eNo"
      },
      "source": [
        "# Exercise: Visualization with OSM\n",
        "\n",
        "In this exercise, we will modify the codes we used in class to show all **parks** in Hamilton, Ontario on a map.\n",
        "\n",
        "You need to make the necessary changes to the code to make it work for the new context."
      ]
    },
    {
      "cell_type": "markdown",
      "metadata": {
        "id": "I-IurKbb3FSu"
      },
      "source": [
        "## Area ID query\n",
        "\n",
        "The following function that returns the OVERPASS area id based on city and country names.\n",
        "\n",
        "* **NO** need to change anything in the function"
      ]
    },
    {
      "cell_type": "code",
      "execution_count": 117,
      "metadata": {
        "id": "kIvANrf6xxRn"
      },
      "outputs": [],
      "source": [
        "import requests\n",
        "\n",
        "def get_osm_area_id(city_name, country_name=None):\n",
        "    \"\"\"\n",
        "    Gets the OpenStreetMap (OSM) area ID for a given city name, optionally including the country,\n",
        "    using the Nominatim API.\n",
        "\n",
        "    Args:\n",
        "        city_name (str): The name of the city.\n",
        "        country_name (str, optional): The name of the country. Defaults to None.\n",
        "\n",
        "    Returns:\n",
        "        int or None: The OSM area ID if found, otherwise None.\n",
        "    \"\"\"\n",
        "    query = city_name\n",
        "    if country_name:\n",
        "        query = f\"{city_name}, {country_name}\"\n",
        "\n",
        "    url = f\"https://nominatim.openstreetmap.org/search?q={query}&format=json&limit=1\"\n",
        "    headers = {'User-Agent': 'Colab Notebook'} # Add a User-Agent header\n",
        "    response = requests.get(url, headers=headers)\n",
        "    data = response.json()\n",
        "\n",
        "    if data:\n",
        "        # The Nominatim API returns a list of results. We take the first one.\n",
        "        # The area ID is often the same as the OSM ID for the place.\n",
        "        # We can add 3600000000 to the OSM ID to get the area ID for use in Overpass API.\n",
        "        # See: https://wiki.openstreetmap.org/wiki/Overpass_API/Areas\n",
        "        osm_id = data[0].get('osm_id')\n",
        "        if osm_id:\n",
        "            # Assuming the osm_id is for a boundary or administrative area\n",
        "            # This might need refinement depending on the exact type of place returned\n",
        "            area_id = osm_id + 3600000000\n",
        "            return area_id\n",
        "    return None\n",
        "\n",
        "# Example usage (optional - you can remove this if you just want the function definition)\n",
        "# city = \"London\"\n",
        "# country = \"UK\"\n",
        "# area_id = get_osm_area_id(city, country)\n",
        "# if area_id:\n",
        "#     print(f\"The OSM area ID for {city}, {country} is: {area_id}\")\n",
        "# else:\n",
        "#     print(f\"Could not find the OSM area ID for {city}, {country}\")\n",
        "\n",
        "# city = \"London\"\n",
        "# country = \"Canada\"\n",
        "# area_id = get_osm_area_id(city, country)\n",
        "# if area_id:\n",
        "#     print(f\"The OSM area ID for {city}, {country} is: {area_id}\")\n",
        "# else:\n",
        "#     print(f\"Could not find the OSM area ID for {city}, {country}\")"
      ]
    },
    {
      "cell_type": "markdown",
      "metadata": {
        "id": "RAzYMBdB3htw"
      },
      "source": [
        "## Using OVERPASS to find parks in the city"
      ]
    },
    {
      "cell_type": "markdown",
      "metadata": {
        "id": "Nt_EMsyb317q"
      },
      "source": [
        "Get the area id and then define the OVERPASS query."
      ]
    },
    {
      "cell_type": "code",
      "execution_count": 118,
      "metadata": {
        "id": "cgcjeqEmzGHv"
      },
      "outputs": [
        {
          "data": {
            "text/plain": [
              "3607034910"
            ]
          },
          "execution_count": 118,
          "metadata": {},
          "output_type": "execute_result"
        }
      ],
      "source": [
        "area_id = get_osm_area_id('Hamilton', country_name='Canada')\n",
        "area_id"
      ]
    },
    {
      "cell_type": "code",
      "execution_count": null,
      "metadata": {
        "id": "ngkGEFvVzOqZ"
      },
      "outputs": [],
      "source": [
        "query = \"\"\"\n",
        "[out:json][timeout:25];\n",
        "area(id:3607034910)->.a;\n",
        " (\n",
        "    node[\"leisure\"=\"park\"](area.a);\n",
        "    way[\"leisure\"=\"park\"](area.a);\n",
        "    relation[\"leisure\"=\"park\"](area.a);\n",
        "  );\n",
        "out center tags;\n",
        "\"\"\""
      ]
    },
    {
      "cell_type": "code",
      "execution_count": 121,
      "metadata": {
        "colab": {
          "base_uri": "https://localhost:8080/"
        },
        "id": "9PahFHpozl5o",
        "outputId": "915c8f23-bbae-4cd0-88c7-12a95da14ab2"
      },
      "outputs": [
        {
          "data": {
            "text/plain": [
              "200"
            ]
          },
          "execution_count": 121,
          "metadata": {},
          "output_type": "execute_result"
        }
      ],
      "source": [
        "# Import the library\n",
        "import requests\n",
        "\n",
        "\n",
        "# The URL\n",
        "OVERPASS  = \"https://overpass-api.de/api/interpreter\"\n",
        "\n",
        "# Sending the data, and assign the response to a variable r\n",
        "\n",
        "r = requests.post(OVERPASS, data={\"data\": query}, timeout=60)\n",
        "\n",
        "r.status_code"
      ]
    },
    {
      "cell_type": "markdown",
      "metadata": {
        "id": "vzq6XLv34AZh"
      },
      "source": [
        "Get the json data from the response to the query"
      ]
    },
    {
      "cell_type": "code",
      "execution_count": 109,
      "metadata": {
        "id": "XD7Bl-n5zxt9"
      },
      "outputs": [],
      "source": [
        "data = r.json()\n",
        "places = data.get('elements')"
      ]
    },
    {
      "cell_type": "markdown",
      "metadata": {
        "id": "pVtTScK30g1M"
      },
      "source": [
        "Convert the JSON data to a data frame to preview the content."
      ]
    },
    {
      "cell_type": "code",
      "execution_count": 110,
      "metadata": {
        "id": "dji6AiHH1m1U"
      },
      "outputs": [
        {
          "data": {
            "text/html": [
              "<div>\n",
              "<style scoped>\n",
              "    .dataframe tbody tr th:only-of-type {\n",
              "        vertical-align: middle;\n",
              "    }\n",
              "\n",
              "    .dataframe tbody tr th {\n",
              "        vertical-align: top;\n",
              "    }\n",
              "\n",
              "    .dataframe thead th {\n",
              "        text-align: right;\n",
              "    }\n",
              "</style>\n",
              "<table border=\"1\" class=\"dataframe\">\n",
              "  <thead>\n",
              "    <tr style=\"text-align: right;\">\n",
              "      <th></th>\n",
              "      <th>type</th>\n",
              "      <th>id</th>\n",
              "      <th>lat</th>\n",
              "      <th>lon</th>\n",
              "      <th>tags</th>\n",
              "      <th>center</th>\n",
              "    </tr>\n",
              "  </thead>\n",
              "  <tbody>\n",
              "    <tr>\n",
              "      <th>0</th>\n",
              "      <td>node</td>\n",
              "      <td>108447516</td>\n",
              "      <td>43.696135</td>\n",
              "      <td>-79.354544</td>\n",
              "      <td>{'created_by': 'JOSM', 'leisure': 'park', 'nam...</td>\n",
              "      <td>NaN</td>\n",
              "    </tr>\n",
              "    <tr>\n",
              "      <th>1</th>\n",
              "      <td>node</td>\n",
              "      <td>147134453</td>\n",
              "      <td>43.786175</td>\n",
              "      <td>-79.395460</td>\n",
              "      <td>{'created_by': 'JOSM', 'leisure': 'park', 'nam...</td>\n",
              "      <td>NaN</td>\n",
              "    </tr>\n",
              "    <tr>\n",
              "      <th>2</th>\n",
              "      <td>node</td>\n",
              "      <td>292767952</td>\n",
              "      <td>43.718043</td>\n",
              "      <td>-79.359654</td>\n",
              "      <td>{'leisure': 'park', 'name': 'Serena Gundy Park...</td>\n",
              "      <td>NaN</td>\n",
              "    </tr>\n",
              "    <tr>\n",
              "      <th>3</th>\n",
              "      <td>node</td>\n",
              "      <td>299290515</td>\n",
              "      <td>43.742128</td>\n",
              "      <td>-79.369286</td>\n",
              "      <td>{'leisure': 'park', 'name': 'Windfields Park'}</td>\n",
              "      <td>NaN</td>\n",
              "    </tr>\n",
              "    <tr>\n",
              "      <th>4</th>\n",
              "      <td>node</td>\n",
              "      <td>299296632</td>\n",
              "      <td>43.742250</td>\n",
              "      <td>-79.371535</td>\n",
              "      <td>{'leisure': 'park', 'name': 'Windfields Park'}</td>\n",
              "      <td>NaN</td>\n",
              "    </tr>\n",
              "    <tr>\n",
              "      <th>...</th>\n",
              "      <td>...</td>\n",
              "      <td>...</td>\n",
              "      <td>...</td>\n",
              "      <td>...</td>\n",
              "      <td>...</td>\n",
              "      <td>...</td>\n",
              "    </tr>\n",
              "    <tr>\n",
              "      <th>1689</th>\n",
              "      <td>relation</td>\n",
              "      <td>18529128</td>\n",
              "      <td>NaN</td>\n",
              "      <td>NaN</td>\n",
              "      <td>{'leisure': 'park', 'name': 'West Humber Parkl...</td>\n",
              "      <td>{'lat': 43.7336625, 'lon': -79.5686922}</td>\n",
              "    </tr>\n",
              "    <tr>\n",
              "      <th>1690</th>\n",
              "      <td>relation</td>\n",
              "      <td>18677541</td>\n",
              "      <td>NaN</td>\n",
              "      <td>NaN</td>\n",
              "      <td>{'addr:housenumber': '390', 'addr:street': 'Mo...</td>\n",
              "      <td>{'lat': 43.7770871, 'lon': -79.2119232}</td>\n",
              "    </tr>\n",
              "    <tr>\n",
              "      <th>1691</th>\n",
              "      <td>relation</td>\n",
              "      <td>18688055</td>\n",
              "      <td>NaN</td>\n",
              "      <td>NaN</td>\n",
              "      <td>{'addr:housenumber': '375', 'addr:street': 'Co...</td>\n",
              "      <td>{'lat': 43.7094129, 'lon': -79.4257425}</td>\n",
              "    </tr>\n",
              "    <tr>\n",
              "      <th>1692</th>\n",
              "      <td>relation</td>\n",
              "      <td>19119079</td>\n",
              "      <td>NaN</td>\n",
              "      <td>NaN</td>\n",
              "      <td>{'addr:city': 'Toronto', 'addr:housenumber': '...</td>\n",
              "      <td>{'lat': 43.6490441, 'lon': -79.5214783}</td>\n",
              "    </tr>\n",
              "    <tr>\n",
              "      <th>1693</th>\n",
              "      <td>relation</td>\n",
              "      <td>19417290</td>\n",
              "      <td>NaN</td>\n",
              "      <td>NaN</td>\n",
              "      <td>{'addr:city': 'Toronto', 'addr:housenumber': '...</td>\n",
              "      <td>{'lat': 43.6641168, 'lon': -79.3856096}</td>\n",
              "    </tr>\n",
              "  </tbody>\n",
              "</table>\n",
              "<p>1694 rows × 6 columns</p>\n",
              "</div>"
            ],
            "text/plain": [
              "          type         id        lat        lon  \\\n",
              "0         node  108447516  43.696135 -79.354544   \n",
              "1         node  147134453  43.786175 -79.395460   \n",
              "2         node  292767952  43.718043 -79.359654   \n",
              "3         node  299290515  43.742128 -79.369286   \n",
              "4         node  299296632  43.742250 -79.371535   \n",
              "...        ...        ...        ...        ...   \n",
              "1689  relation   18529128        NaN        NaN   \n",
              "1690  relation   18677541        NaN        NaN   \n",
              "1691  relation   18688055        NaN        NaN   \n",
              "1692  relation   19119079        NaN        NaN   \n",
              "1693  relation   19417290        NaN        NaN   \n",
              "\n",
              "                                                   tags  \\\n",
              "0     {'created_by': 'JOSM', 'leisure': 'park', 'nam...   \n",
              "1     {'created_by': 'JOSM', 'leisure': 'park', 'nam...   \n",
              "2     {'leisure': 'park', 'name': 'Serena Gundy Park...   \n",
              "3        {'leisure': 'park', 'name': 'Windfields Park'}   \n",
              "4        {'leisure': 'park', 'name': 'Windfields Park'}   \n",
              "...                                                 ...   \n",
              "1689  {'leisure': 'park', 'name': 'West Humber Parkl...   \n",
              "1690  {'addr:housenumber': '390', 'addr:street': 'Mo...   \n",
              "1691  {'addr:housenumber': '375', 'addr:street': 'Co...   \n",
              "1692  {'addr:city': 'Toronto', 'addr:housenumber': '...   \n",
              "1693  {'addr:city': 'Toronto', 'addr:housenumber': '...   \n",
              "\n",
              "                                       center  \n",
              "0                                         NaN  \n",
              "1                                         NaN  \n",
              "2                                         NaN  \n",
              "3                                         NaN  \n",
              "4                                         NaN  \n",
              "...                                       ...  \n",
              "1689  {'lat': 43.7336625, 'lon': -79.5686922}  \n",
              "1690  {'lat': 43.7770871, 'lon': -79.2119232}  \n",
              "1691  {'lat': 43.7094129, 'lon': -79.4257425}  \n",
              "1692  {'lat': 43.6490441, 'lon': -79.5214783}  \n",
              "1693  {'lat': 43.6641168, 'lon': -79.3856096}  \n",
              "\n",
              "[1694 rows x 6 columns]"
            ]
          },
          "execution_count": 110,
          "metadata": {},
          "output_type": "execute_result"
        }
      ],
      "source": [
        "import pandas as pd\n",
        "pd.DataFrame(places)"
      ]
    },
    {
      "cell_type": "markdown",
      "metadata": {
        "id": "96nD3mkD4ciI"
      },
      "source": [
        "Convert the JSON data to a clean data frame."
      ]
    },
    {
      "cell_type": "code",
      "execution_count": 112,
      "metadata": {
        "id": "V3jSXEyjz8tu"
      },
      "outputs": [
        {
          "data": {
            "text/html": [
              "<div>\n",
              "<style scoped>\n",
              "    .dataframe tbody tr th:only-of-type {\n",
              "        vertical-align: middle;\n",
              "    }\n",
              "\n",
              "    .dataframe tbody tr th {\n",
              "        vertical-align: top;\n",
              "    }\n",
              "\n",
              "    .dataframe thead th {\n",
              "        text-align: right;\n",
              "    }\n",
              "</style>\n",
              "<table border=\"1\" class=\"dataframe\">\n",
              "  <thead>\n",
              "    <tr style=\"text-align: right;\">\n",
              "      <th></th>\n",
              "      <th>type</th>\n",
              "      <th>id</th>\n",
              "      <th>name</th>\n",
              "      <th>lat</th>\n",
              "      <th>lon</th>\n",
              "    </tr>\n",
              "  </thead>\n",
              "  <tbody>\n",
              "    <tr>\n",
              "      <th>0</th>\n",
              "      <td>node</td>\n",
              "      <td>108447516</td>\n",
              "      <td>Lower Don Recreational Trail</td>\n",
              "      <td>43.696135</td>\n",
              "      <td>-79.354544</td>\n",
              "    </tr>\n",
              "    <tr>\n",
              "      <th>1</th>\n",
              "      <td>node</td>\n",
              "      <td>147134453</td>\n",
              "      <td>Newtonbrook Park</td>\n",
              "      <td>43.786175</td>\n",
              "      <td>-79.395460</td>\n",
              "    </tr>\n",
              "    <tr>\n",
              "      <th>2</th>\n",
              "      <td>node</td>\n",
              "      <td>292767952</td>\n",
              "      <td>Serena Gundy Park</td>\n",
              "      <td>43.718043</td>\n",
              "      <td>-79.359654</td>\n",
              "    </tr>\n",
              "    <tr>\n",
              "      <th>3</th>\n",
              "      <td>node</td>\n",
              "      <td>299290515</td>\n",
              "      <td>Windfields Park</td>\n",
              "      <td>43.742128</td>\n",
              "      <td>-79.369286</td>\n",
              "    </tr>\n",
              "    <tr>\n",
              "      <th>4</th>\n",
              "      <td>node</td>\n",
              "      <td>299296632</td>\n",
              "      <td>Windfields Park</td>\n",
              "      <td>43.742250</td>\n",
              "      <td>-79.371535</td>\n",
              "    </tr>\n",
              "  </tbody>\n",
              "</table>\n",
              "</div>"
            ],
            "text/plain": [
              "   type         id                          name        lat        lon\n",
              "0  node  108447516  Lower Don Recreational Trail  43.696135 -79.354544\n",
              "1  node  147134453              Newtonbrook Park  43.786175 -79.395460\n",
              "2  node  292767952             Serena Gundy Park  43.718043 -79.359654\n",
              "3  node  299290515               Windfields Park  43.742128 -79.369286\n",
              "4  node  299296632               Windfields Park  43.742250 -79.371535"
            ]
          },
          "metadata": {},
          "output_type": "display_data"
        }
      ],
      "source": [
        "import pandas as pd\n",
        "\n",
        "# Create an empty list to store the data for the DataFrame\n",
        "data_list = []\n",
        "\n",
        "# Iterate through each element in the 'places' list\n",
        "for place in places:\n",
        "    # Extract the required information\n",
        "    place_type = place.get('type')\n",
        "    place_id = place.get('id')\n",
        "    tags = place.get('tags')\n",
        "    name = tags.get('name')\n",
        "\n",
        "    # Get latitude and longitude based on element type\n",
        "    if place_type == 'node':\n",
        "        lat = place.get('lat')\n",
        "        lon = place.get('lon')\n",
        "    else:  # For 'way' and 'relation' types, get coordinates from 'center'\n",
        "        center = place.get('center')\n",
        "        lat = center.get('lat')\n",
        "        lon = center.get('lon')\n",
        "\n",
        "    # Append the extracted data as a dictionary to the list\n",
        "    data_list.append({\n",
        "        'type': place_type,\n",
        "        'id': place_id,\n",
        "        'name': name,\n",
        "        'lat': lat,\n",
        "        'lon': lon,\n",
        "    })\n",
        "\n",
        "# Create the DataFrame from the list of dictionaries\n",
        "df = pd.DataFrame(data_list)\n",
        "\n",
        "# Display the first few rows of the DataFrame\n",
        "display(df.head())"
      ]
    },
    {
      "cell_type": "markdown",
      "metadata": {
        "id": "KODSxX-r4kKP"
      },
      "source": [
        "## Visualization\n",
        "\n",
        "First install/update plotly"
      ]
    },
    {
      "cell_type": "code",
      "execution_count": 113,
      "metadata": {
        "id": "fhbkyv_B0KU8"
      },
      "outputs": [
        {
          "name": "stdout",
          "output_type": "stream",
          "text": [
            "Requirement already satisfied: plotly in /Users/matthewzychowicz/Desktop/MBA/O712_DataAnalPy/W7/.venv/lib/python3.12/site-packages (6.3.1)\n",
            "Requirement already satisfied: narwhals>=1.15.1 in /Users/matthewzychowicz/Desktop/MBA/O712_DataAnalPy/W7/.venv/lib/python3.12/site-packages (from plotly) (2.10.0)\n",
            "Requirement already satisfied: packaging in /Users/matthewzychowicz/Desktop/MBA/O712_DataAnalPy/W7/.venv/lib/python3.12/site-packages (from plotly) (25.0)\n"
          ]
        }
      ],
      "source": [
        "!pip install -U plotly"
      ]
    },
    {
      "cell_type": "markdown",
      "metadata": {
        "id": "p0DNiNRB4qoR"
      },
      "source": [
        "Import plotly"
      ]
    },
    {
      "cell_type": "code",
      "execution_count": 114,
      "metadata": {
        "id": "a8rIeQaX0_S3"
      },
      "outputs": [],
      "source": [
        "import plotly.express as px"
      ]
    },
    {
      "cell_type": "markdown",
      "metadata": {
        "id": "jx_3rSSl2clh"
      },
      "source": [
        "Create the scatter map plot."
      ]
    },
    {
      "cell_type": "code",
      "execution_count": 116,
      "metadata": {
        "id": "lykxzybl0vnM"
      },
      "outputs": [
        {
          "data": {
            "application/vnd.plotly.v1+json": {
              "config": {
                "plotlyServerURL": "https://plot.ly"
              },
              "data": [
                {
                  "hovertemplate": "<b>%{hovertext}</b><br><br>type=node<br>lat=%{lat}<br>lon=%{lon}<extra></extra>",
                  "hovertext": [
                    "Lower Don Recreational Trail",
                    "Newtonbrook Park",
                    "Serena Gundy Park",
                    "Windfields Park",
                    "Windfields Park",
                    "Anewen Greenbelt",
                    "Étienne Brûlé Park",
                    "James Gardens",
                    "Scarlett Mills Park",
                    "Ukranian Canadian Memorial Park",
                    "Weston Lions Park",
                    "Crawford-Jones Memorial Park",
                    "Humber Arboretum",
                    "Betty Sutherland Trail Park",
                    "near dam",
                    "Raymore Park",
                    "Weston Lions Park",
                    "Colony Park",
                    "Colony Park",
                    "Linkwood Lane Park",
                    null,
                    null,
                    null,
                    null,
                    null,
                    "Rexlington Park",
                    "Centre Island Park",
                    null,
                    "York Cemetery and Recreational Park",
                    "Rouge Park",
                    null,
                    "Joseph Bannon Park",
                    "Scarlett Heights Park",
                    "East Don Park",
                    "Thistletown Park",
                    "East York Rotary Commons",
                    "James Canning Gardens",
                    "play ground",
                    "20 Thomas Riley Road Parkette",
                    "Islington Parkette",
                    "Ravenscrest Park",
                    "Wimbleton Road South Parkette",
                    "Etobicoke Valley Park",
                    "Childrens Community Garden",
                    "Montgomery Green Space",
                    null,
                    "Wigmore Park",
                    "poison ivy patch",
                    "Dalrymple Park",
                    "Peter Street Basin Park",
                    "6 Horton Park",
                    "poison ivy patch",
                    "Wexford Hydro Park",
                    "Haney Park",
                    "Colonel Danforth Park",
                    "Sunnybrook Park South Entrance"
                  ],
                  "lat": {
                    "bdata": "Lg4d8RrZRUBm9+RhoeRFQABQatTo20VAqHi3Df7eRUCIOfcNAt9FQEn0Morl3UVA3p9B+XHTRUDEV+DQANZFQFplprT+1kVA3csiuaHXRUBXunFBbNlFQFJ2n4jq2kVASMkGLX/dRUCPIPAbuuJFQPsCeuHO60VACWAUThzZRUCn591YUNlFQEpdMo6R30VAIqu29pnfRUBp0lxdBNxFQEVNT7Ob30VAm1GYnH/fRUDDG4gbptxFQEHiDR/H40VAZ/yx//DRRUCvHTEftdtFQEVcSqe/zkVA1np1RHTkRUDy179G7eFFQEygLYyZ6UVAh0szgjLcRUAHi9TFt91FQPh6rTph10VA69RLQtjiRUDQGQdNAd5FQM/cnntq2EVAJjuRu2PVRUAtdTUeEeRFQJOxNbYy0UVAoHnvXqTRRUDX4UPkT9RFQDH1TmCV1EVAVpqUgm7NRUAgh3dv+9VFQIP9MnPc0kVAdMuzN53cRUCT+8LQj91FQI2h9yHK40VA2d8jrNfWRUCBd/LpsdFFQDNHoAs03kVAr/H0pRLkRUBGiUyvg91FQE1lUdhF1kVA0fEsnP/jRUABBjhz/ttFQA==",
                    "dtype": "f8"
                  },
                  "legendgroup": "node",
                  "lon": {
                    "bdata": "jj9R2bDWU8DdF+E3T9lTwKrY85AE11PAg5cqYqLXU8BHFQ85x9dTwCafaGhN1FPAIcms3mHfU8C8fEZ97eBTwKa0o92N4FPA4qXlUbvgU8Bjw4meSuFTwG2X7I574lPAgSDlzJvnU8DunvKeOddTwO0NvjCZzFPAmt2ks93gU8BH8eDdAOFTwEf7xKY65lPA4fa6+1LmU8ARduUO9tRTwNfKOtLP1lPAlkuZisPWU8Bjji/rj9pTwJfmVgir3FPArSC8LFzfU8A/pe/ayuNTwI5+j1Ul2FPAgPm/fuPSU8BeFJippNpTwHllzX6TzFPAK1X9paDcU8CXOsjrQeJTwJ4u5kLA4FPAYoeMomLXU8BtdTklIORTwP5Rigzh1VPAmBr8WJzYU8Ab+KzGbdNTwH6Bas2g4lPAClaLPlXhU8A0yBP3juNTwHHBvkKL4VPAc2a7Qp/jU8BIxf8dUdZTwA+1bRgF4VPAPSHgtXDbU8B6xOi5BdRTwJs381CA2FPAQh37/nLfU8A1T2Sc9dhTwB9JSQ/Dz1PAD79R4b7YU8ANU1vqINNTwMSGXcqv31PAPnTmw9jKU8AaZaKtb9ZTwA==",
                    "dtype": "f8"
                  },
                  "marker": {
                    "color": "#636efa"
                  },
                  "mode": "markers",
                  "name": "node",
                  "showlegend": true,
                  "subplot": "map",
                  "type": "scattermap"
                },
                {
                  "hovertemplate": "<b>%{hovertext}</b><br><br>type=way<br>lat=%{lat}<br>lon=%{lon}<extra></extra>",
                  "hovertext": [
                    "Christie Pits Park",
                    "Curran Hall Ravine",
                    "Wanita Park",
                    "Guild Park and Gardens",
                    "Grange Park",
                    null,
                    "Wexford Park",
                    "Edge Park",
                    "Fred Hamilton Playground",
                    "St. Patrick's Square",
                    "Jean Sibelius Square",
                    "Clarence Square",
                    "Gwendolyn MacEwen Parkette",
                    "St. Alban's Square",
                    "Vermont Square Park",
                    "Jesse Ketchum Park",
                    "Paul Martel Park",
                    "Highland Creek Ravine",
                    "Dovercourt Park",
                    "Westmoreland Avenue Parkette",
                    "Wenderly Park",
                    "Nicol MacNicol Parkette",
                    "Megan Park",
                    "June Rowlands Park",
                    null,
                    "Margaret Fairley Park",
                    "Charlottetown Park",
                    "High Park",
                    "Riverdale Park East",
                    "St. Margaret's Parkette",
                    null,
                    "Huron & Washington Parkette",
                    "Ramsden Park",
                    "Harry W. Arthurs Common",
                    "Hullmar Park",
                    null,
                    "Dufferin Grove Park",
                    "Cedarvale Park",
                    "Nordheimer Ravine",
                    "Lisgar Park",
                    "Marian Engel Park",
                    "Hillcrest Park",
                    "Parkview Park",
                    "Willowdale Park",
                    "Sheppard East Park",
                    "Glendora Park",
                    "Roxton Road Parkette",
                    "Sorauren Park",
                    "Withrow Park",
                    "Silverview Park",
                    "Wells Hill Park",
                    "St. Andrew's Playground",
                    "Lionel Conacher Park",
                    "Poplar Plains Park",
                    "Sir Winston Churchill Park",
                    "Pricefield Road Playground",
                    "Ferrand Drive Park",
                    "Robertson Davies Park",
                    "Roseneath Park",
                    "Humewood Park",
                    "Graham Park",
                    "Tichester Park",
                    "George Ben Park",
                    "College Park",
                    "Little Norway Park",
                    "Moss Park",
                    "Simcoe Park",
                    "St. James Park",
                    "Sergeant Ryan Russell Parkette",
                    "Jay Macpherson Green",
                    "Main Sewage Treatment Playground",
                    "Woodbine Park",
                    "Wishing Well Park",
                    "MacGregor Playground",
                    "McCormick Park",
                    "Dundas-St. Clarens Parkette",
                    null,
                    "Massey Harris Park",
                    null,
                    "Masaryk Park",
                    "Greenwood Park",
                    "Hunters Glen Park",
                    "Riverdale Park West",
                    "Les Anthony Parkette",
                    "Erwin Krickhahn Park",
                    "Campbell Avenue Park",
                    "Perth Square Park",
                    "Carlton Park",
                    "Chelsea Avenue Playground",
                    "Wellesley Park",
                    "Joseph Sheard Parkette",
                    "Victoria Memorial Square",
                    "Regents Park",
                    "Trethewey Park",
                    "Randy Padmore Park",
                    "Stephenson Park",
                    "Norwood Park",
                    "East Toronto Athletic Field",
                    "Jimmie Simpson Park",
                    "Kew Gardens",
                    "East Lynn Park",
                    "Four Oaks Gate Park",
                    "Dieppe Park",
                    "Sackville Playground",
                    "Thompson Street Parkette",
                    "Kitchener Park",
                    "Canada Square",
                    "Rees Street Parkette",
                    "HTO Park",
                    "HTO Park West",
                    "Toronto Music Garden",
                    "Waterfront Children's Garden",
                    "Westlake Park",
                    "Eglinton Flats",
                    "Stan Wadlow Park",
                    "Dentonia Park",
                    "Everett Park",
                    "Stanley G. Grizzle Park",
                    "Inglewood Heights Park",
                    "Gledhill Park",
                    "Oakcrest Parkette",
                    "Fairglen Park",
                    "Clydesdale Park",
                    null,
                    "McCaul-Orde Park",
                    "The Gore",
                    "Victoria Park-Eglinton Parkette",
                    null,
                    "Grey Abbey Park",
                    "R.V. Burgess Park",
                    "Merrill Bridge Road Park",
                    "Lower Don Parklands",
                    "Cullen Bryant Park",
                    "Coleman Park",
                    "Wanless Park",
                    "East Don Parkland",
                    "Moatfield Farm Park",
                    "True Davidson Park",
                    "Leonard Linton Park",
                    "George Webster Park",
                    "Donora Park",
                    "Eglinton Park",
                    "Topham Park",
                    "Jim McPherson Park",
                    "Clairlea Park",
                    "Jay Robinson Park",
                    "Jaye Robinson Park",
                    "Winchester Park",
                    "Winchester Square Park",
                    "Sculpture Gardens",
                    "Courthouse Square",
                    "Larry Sefton Park",
                    "Trinity Square",
                    "Wallace Emerson Park",
                    "Perth Avenue Parkette",
                    "Warden Woods Park",
                    "Sumach-Shuter Parkette",
                    "Norman Jewison Park",
                    "George Hislop Park",
                    null,
                    "Todmorden Mills Park",
                    null,
                    "Madelaine Park",
                    "Oakridge Park",
                    "Prairie Drive Park",
                    "Moreau Trail Park",
                    "Whitney Park",
                    "Rosedale Park",
                    "Chorley Park",
                    "Cummer Park",
                    "Terry Fox Park",
                    "Cresthaven Park",
                    "Cummer Parkette",
                    "Skymark Park",
                    "McDairmid Woods Park",
                    "Mike Bela Park",
                    null,
                    "Rippleton Park",
                    "Rippleton Park",
                    "Longwood Park",
                    null,
                    "Mossgrove Park",
                    "Kirkwood Park",
                    "Linus Park",
                    "Hobart Park",
                    "Oriole Park",
                    "Shaughnessy Public School Park",
                    "Lithuania Park",
                    "Village of Yorkville Park",
                    "Butterfield Park",
                    "Taddle Creek Park",
                    "Huron Street Playground",
                    "Willesden Park",
                    "Pineway Park",
                    "Matt Cohen Park",
                    null,
                    null,
                    "Agnes Macphail Square",
                    "Stafford Park",
                    "Maple Leaf Park",
                    "Queens GreenBelt Park",
                    "Leslie Greenbelt",
                    "Coxwell Avenue Playground",
                    "Monarch Park",
                    "Felstead Park",
                    "Glen Stewart Park",
                    "Ivan Forrest Gardens",
                    "Gwendolen Park",
                    "Ellerslie Park",
                    "Cassels Avenue Playground",
                    "St. Clair Ravine",
                    "Cheltenham Park",
                    "Oakvale Green",
                    "Rockford Park",
                    "Sandy Bruce Park",
                    "Lambton - Kingsway Park",
                    "Pantry Park",
                    "Beaches Park",
                    "Phin Park",
                    null,
                    "Don Valley Brick Works Park",
                    "Dane Parkette",
                    "Conlands Parkette",
                    "Prince Charles Park",
                    null,
                    "Barbara Hall Park",
                    "Ranee Park",
                    "Wigmore Park",
                    "Sweeney Drive",
                    "Broadview Subway Station Parkette",
                    "Flagstaff Park",
                    "Elie Wiesel Park",
                    null,
                    "Scarden Park",
                    "Vradenberg Park",
                    null,
                    "Snowhill Park",
                    null,
                    null,
                    "West Rouge Park",
                    "Fanfare Park",
                    "Dorset Park",
                    null,
                    null,
                    null,
                    "Turpin Avenue Park",
                    "Westway Park",
                    "Humber Arboretum",
                    "Pine Point Park",
                    "Mallaby Park",
                    "Cruickshank Park",
                    null,
                    null,
                    "Earlscourt Park",
                    "Fairbank Memorial Park",
                    "Smythe Park",
                    "Rowntree Mills Park",
                    "Finch-Islington Park",
                    "Derrydowns Park",
                    null,
                    null,
                    null,
                    "Heathrow Park",
                    "Chalkfarm Park",
                    "Hinder Area",
                    null,
                    "Irving W Chapley Park",
                    "Downsview Park",
                    "Hendon Park",
                    "Edithvale Park",
                    "North Humber Park",
                    "Rexdale Park",
                    null,
                    "Densgrove Park",
                    "Lusted Park",
                    "Caledonia Park",
                    "North Park",
                    null,
                    null,
                    "Harding Park",
                    "Harding Park",
                    "Hearst Circle Parkette",
                    "Fountainhead Park",
                    "Westview Greenbelt",
                    null,
                    "Gulliver Park",
                    null,
                    null,
                    null,
                    null,
                    "Fergy Brown Park",
                    "Eglinton Flats",
                    "Wadsworth Park",
                    "Cataraqui Park",
                    "Holley Park",
                    null,
                    "Windwood Park",
                    "Chandos Park South",
                    "Chandos Park North",
                    "Islington Park",
                    "Conacher Park",
                    "Caswell Park",
                    "Echo Valley Park",
                    "Lloyd Manor Park",
                    "Flemingdon Park",
                    "Flemingdon Park",
                    "Flemingdon Park",
                    null,
                    "York Mills Valley Park",
                    null,
                    "Remberto Navia Sports Field",
                    "George Chater Park",
                    "Neil McLellan Park",
                    "Dunlop Park",
                    "York Mills Park",
                    null,
                    "Rean Park",
                    "Ethennonnhawahstihnen' Park",
                    "Talara Park",
                    null,
                    "Logan Green Field",
                    "Carlaw Avenue Parkette",
                    "Maywood Park",
                    null,
                    null,
                    "Heathercrest Park",
                    "Joyce Parkette",
                    "Kenworthy Park",
                    "Humber Bay Park West",
                    "Humber Bay Park East",
                    "Palace Pier Park",
                    "Sir Casimir Gzowski Park",
                    "Rennie Park",
                    "Rambert Crescent Parkette",
                    "Capri Park",
                    "East Mall Park",
                    "Thomson Memorial Park",
                    null,
                    "Silverhill Park",
                    "Glen Park",
                    "Cronin Park",
                    "Cloverdale Park",
                    "Centre Park",
                    "Greenfield Park",
                    "Queensland Park",
                    "G. Ross Lord Park",
                    "Rotary Peace Park",
                    null,
                    "Wellesworth Park",
                    "Dennis Flynn Park",
                    "Connorvale Park",
                    "Douglas Park",
                    "Colonel Samuel Smith Park",
                    null,
                    "Cedargrove Park",
                    null,
                    null,
                    "Horton Park",
                    "Port Union Village Common",
                    "St. Andrew’s Park",
                    "St. Andrew’s Park",
                    null,
                    null,
                    null,
                    "Lakeshore Boulevard Parklands",
                    "Marilyn Bell Park",
                    "Redgrave Park",
                    "Leaside Park",
                    null,
                    "Laburnham Park",
                    "Clarinda Park",
                    "Hawksbury Park",
                    "Robertson Parkette",
                    "Centennial Park",
                    "Stratford Park",
                    "Charlotte Maher Park",
                    "L'Amoreaux Park",
                    "L'Amoureaux Park",
                    "Shepton Way Park",
                    "Huntsmill Park",
                    null,
                    "Fundy Bay Park",
                    "Iroquois Park",
                    "Port Royal Park",
                    "Milliken Park",
                    "Neilson Park",
                    "Littles Park",
                    null,
                    "Harvest Moon Park",
                    "Driftwood Park",
                    null,
                    null,
                    "Neilson Park",
                    null,
                    null,
                    "Duplex Parkette",
                    "Chatsworth Ravine",
                    "Lytton Park",
                    null,
                    "Sherwood Park",
                    "Blythwood Ravine Park",
                    "Alexander Muir Memorial Gardens",
                    "George Milbrandt Parkette",
                    null,
                    "Woburn Park",
                    "Old Orchard Park",
                    null,
                    "Elmcrest Park",
                    "St. Clair Gardens Parkette",
                    "S.A.D.R.A. Park",
                    "S.A.D.R.A. Park",
                    "S.A.D.R.A. Park",
                    "Jonathan Ashbridge Park",
                    "Severn Creek Park",
                    "David A. Balfour Park",
                    "Roxborough Parkette",
                    "Inukshuk Park",
                    "Maple Claire Park",
                    null,
                    "Sentinel Park",
                    null,
                    "Seven Oaks Park",
                    null,
                    null,
                    "Vine Avenue Playground",
                    "Malta Park",
                    "Noble Park",
                    "Harwood Park",
                    "Charles Caccia Park",
                    "Mount Pleasant Parkette",
                    "Harbour Square Park",
                    "Downsview Memorial Parkette",
                    "Lissom Park",
                    "Warner Park",
                    "Ed & Anne Mirvish Parkette",
                    null,
                    null,
                    "Gord and Irene Risk Park",
                    "Lindy Lou Park",
                    "South Marine Park",
                    "Prince of Wales Park",
                    "Mimico Memorial Park",
                    "Millwood Park",
                    "Norris Crescent Parkette",
                    null,
                    "Viewmount Park",
                    "Dunlace Park",
                    "Woodsworth Parkette",
                    "Dell Park",
                    "Woburn Park",
                    null,
                    null,
                    null,
                    "Yorkdale Park",
                    null,
                    "Sandown Park",
                    null,
                    "Guild Park",
                    "Centennial Park",
                    "Highland Creek Community Park",
                    null,
                    "Shawn Blu Rose Park",
                    "Hupfield Park",
                    null,
                    "Ranchdale Park",
                    "Jack Goodlad Park",
                    null,
                    null,
                    "Natal Park",
                    "Eglinton Ravine Park",
                    "Farlinger Ravine",
                    null,
                    null,
                    "Love Park",
                    "Dalrymple Park",
                    "Runnymede Park",
                    "Elmbrook Park",
                    null,
                    "Lynedock Park",
                    "Rowena Park",
                    "Laurentide Park",
                    null,
                    "Deanvar Park",
                    null,
                    "Kennedy-Margdon Parkette",
                    "Terraview Park",
                    null,
                    null,
                    "Old Sheppard Park",
                    null,
                    null,
                    null,
                    "Murison Park",
                    null,
                    null,
                    null,
                    "Lillian Park",
                    null,
                    "Tabor Hill Memorial Park",
                    "North Bendale Park",
                    "Helping Hand Park",
                    null,
                    null,
                    "Nightstar Park",
                    "Knotwood Park",
                    "Kay Park",
                    null,
                    "Shawnee Park",
                    null,
                    null,
                    "Giltspur Park",
                    null,
                    "Silver Creek Park",
                    "Eden Valley Park",
                    "Queensway Park",
                    "Winslow Dalesford Park",
                    "Grand Avenue Park",
                    "Manchester Park",
                    "Platsis Parkette",
                    "Eringate Park",
                    "Martin Grove Gardens Park",
                    "Oates Park",
                    "Maidavale Park",
                    "Rosebank Park",
                    "Trumpeter Park",
                    null,
                    "Charles Sauriol Parkette",
                    "Indian Mound Traffic Island",
                    "Confederation Park",
                    "Scotia Parkette",
                    "Thirty Eighth Street Park",
                    "The Ashbridge Estate",
                    "Carsbrooke Park",
                    "Green Meadows Park",
                    "Castlefield Parkette",
                    "Woburn Park",
                    "Talwood Park",
                    null,
                    "Duncairn Park",
                    "Forest Hill Road Park",
                    "South Marine Park",
                    "Ben Nobleman Park",
                    "Duncairn Park",
                    "Fiona Nelson Parkette",
                    null,
                    "Macklin Hancock Park",
                    "Greenbrae Parkette",
                    "Glenn Gould Park",
                    "Heather Heights Woods",
                    "Heather Heights Park",
                    "Dallington Park",
                    "Richview Park",
                    "Kingsview Park",
                    "Strathburn Park",
                    "Matty Eckler Playground",
                    "Leslie Grove Park",
                    null,
                    "Lescon Park",
                    "Yonge Boulevard Parkette",
                    "Muirlands Park",
                    "Grafton Avenue Park",
                    "Loring-Wyle Parkette",
                    null,
                    null,
                    null,
                    "Princess Anne Park",
                    "Sonya Parkette",
                    "Nesbitt Park",
                    "Willowdale Park",
                    "Cedar Ridge Park",
                    "Councillor Fred Johnson Park",
                    null,
                    null,
                    "Plowshare Park",
                    "Harrison Properties",
                    "Highview Park",
                    "Scarborough Heights Park",
                    "Lynndale Park",
                    "Seneca Hill Park",
                    "McNicoll Park",
                    null,
                    null,
                    null,
                    null,
                    null,
                    "Ranleigh Park",
                    "Jeff Sloan Park",
                    "Strachan Avenue Burying Ground",
                    "Kenneth Parkette",
                    "Northtown Park",
                    "Healey Willan Park",
                    "Maureen Parkette",
                    "Collingwood Park",
                    null,
                    null,
                    "Muirhead Park",
                    null,
                    "Warden Park",
                    null,
                    "Seaton Park",
                    "West Birkdale Park",
                    "Upper Junction Park",
                    "Kempton Howard Park",
                    "Moccasin Trail Park",
                    "Greenbelt Park",
                    null,
                    "Timberbank Park",
                    null,
                    "Treverton Park",
                    "Mooregate Tot Lot",
                    "Walter Saunders Memorial Park",
                    null,
                    null,
                    "Primrose Avenue Parkette",
                    null,
                    "Highland Heights Park",
                    "Lynnwood Heights Junior Public School",
                    "Princess Margaret Park",
                    "Silverstone Park",
                    "Columbus Parkette",
                    "Haimer Park",
                    "Gihon Spring Park",
                    null,
                    null,
                    "Graydon Hall Park",
                    null,
                    "Al Green Sculpture Park",
                    "Paul Kane House Parkette",
                    "Duncan Creek Park",
                    null,
                    "Richmond Park",
                    null,
                    "Harold Town Park",
                    "Lord and Lady Martonmere Gardens",
                    null,
                    "Wychwood Barns Park",
                    null,
                    "Finch Parkette",
                    null,
                    "Silvio Collela Park",
                    "Plunkett park",
                    null,
                    null,
                    null,
                    "Godstone Park",
                    "Blue Ridge Park",
                    "Mission Ground Parkette",
                    "Pottery Playground",
                    "Hideaway Park",
                    "Harding Parkette",
                    "Clovercrest Parkette",
                    null,
                    "Kennedy Road Parkette",
                    null,
                    null,
                    null,
                    null,
                    "Van Horne Park",
                    "Pinto Park",
                    "Stephen Leacock Park",
                    "West Lodge Park",
                    "Maher Circle Parkette",
                    "Lawton Parkette",
                    null,
                    null,
                    null,
                    null,
                    null,
                    "Moore Park Ravine",
                    null,
                    null,
                    "Fir Valley Woods Park",
                    "McCleary Park",
                    "Moncur Playground",
                    "Fairmount Park",
                    "Orchard Park",
                    "Morse Street Playground",
                    "Maple Leaf Forever Park",
                    "Gerrard - Carlaw Parkette",
                    "Glen Cedar Park",
                    null,
                    "Churchill Heights Park",
                    null,
                    "Ellesmere Greenspace",
                    "Wickson Trail Park",
                    "John Tabor Park",
                    "Woburn Park",
                    "Horseley Hill Park",
                    null,
                    null,
                    null,
                    "Dean Park",
                    null,
                    null,
                    "Bloor-Bedford Parkette",
                    "Indian Line Park",
                    "Allan A. Lamport Stadium Park",
                    "Mckenzie Parkette",
                    "Ourland Park",
                    "Delma Park",
                    "Norseman Heights Park",
                    "Fairfield Park",
                    "Lora Hill Park",
                    null,
                    "Sunnylea Park",
                    "Donnybrook Park",
                    "Chestnut Hills Park",
                    "Kenway Park",
                    "Wedgewood Park",
                    "Humber Valley Park",
                    "Humbertown Park",
                    "Valecrest Park",
                    "Westmount Park",
                    "Islington Heights Park",
                    "Rosethorn Park",
                    "Mill Valley Park",
                    "Merrill Park",
                    "Pelmo Park",
                    null,
                    "Rexlington Park",
                    "Valley Field Park",
                    null,
                    null,
                    null,
                    "Tamarisk Park",
                    "Masseygrove Park",
                    null,
                    "Osler Park",
                    "Woodborough Park",
                    "Gracefield Park",
                    null,
                    null,
                    null,
                    null,
                    "Elijah Park",
                    null,
                    "Close Springhurst Parkette",
                    "Garrison Common",
                    "Close Avenue Parkette",
                    null,
                    null,
                    "White Haven Park",
                    null,
                    null,
                    null,
                    null,
                    "Mondeo Park",
                    "Henrietta Park",
                    null,
                    "Seasons Park",
                    null,
                    null,
                    null,
                    "Westwood Park",
                    "Gamble Playground",
                    null,
                    "Stonehouse Park",
                    "Stanley Avenue Parkette",
                    "Wimbleton Road North Parkette",
                    null,
                    null,
                    "Santa Chiara Parkette",
                    "Havenbrook Park",
                    null,
                    null,
                    "Traymore Park",
                    "Rose Valley Park",
                    null,
                    "Redpath Avenue Parkette",
                    "Canoe Landing Park",
                    null,
                    "Superior Park",
                    "Florence Gell Park",
                    "Symington Avenue Playground",
                    null,
                    null,
                    "Lakeshore Village Park",
                    "Hillside Park",
                    "Coronation Park",
                    "Rotary Park",
                    null,
                    "Festival Park",
                    null,
                    "Goulding Park",
                    "Saddletree Park",
                    "Robert Bateman Parkette",
                    null,
                    "Roywood Park",
                    null,
                    "Hickorynut Parkette",
                    "Fenside Park",
                    "Cliffwood Park",
                    null,
                    null,
                    null,
                    "East Point Park",
                    "Rouge Point Trail Park",
                    null,
                    "Rustic Park",
                    "Sunnybrook Park",
                    null,
                    "Glen Long Park",
                    null,
                    null,
                    "Alexander The Great Parkette",
                    "Twelfth Street Parkette",
                    "Ron Watson Park",
                    "Smithwood Park",
                    "Harlandale Park",
                    null,
                    "Longmore Park",
                    null,
                    null,
                    null,
                    null,
                    "Green Hills Park",
                    "Eglinton Gilbert Parkette",
                    null,
                    "Highland Creek Parkette",
                    null,
                    null,
                    null,
                    "Marie Baldwin Park",
                    "Hampshire Heights Park",
                    "Ravenscrest Park",
                    "West Deane Park",
                    "Ann Tindal Park",
                    "Spadina Quay Wetland",
                    "Dunvegan Parkette",
                    null,
                    null,
                    null,
                    null,
                    null,
                    null,
                    "Indian Valley Crescent",
                    null,
                    "Humber Valley Park",
                    "Wedgewood Park",
                    "Ireland Park",
                    null,
                    "Chartwell Park",
                    "Southwell Park",
                    "Frost Park",
                    "Liberty Village Park",
                    "Dan Iannuzi Park",
                    "Jack Evelyn Wiggins Park",
                    "Market Garden Mews Parkette",
                    "Rita Cox Park",
                    "Sugar Beach",
                    null,
                    "Jean Augustine Park",
                    "Clockwork Park",
                    "Lucy Maud Montgomery Park",
                    "Pelham Avenue Playground",
                    "Municipal Park",
                    null,
                    "Algonquin Island Park",
                    "The Pasture",
                    "Lake Crescent Park",
                    "Vimy Ridge Parkette",
                    "Denison Park",
                    "Canadian Tire Park",
                    "Southern Linear Park",
                    "Princess Street Parkette",
                    "Livingstone Park",
                    "Maurice J. Breen Park",
                    "Etobicoke Valley Park",
                    null,
                    "Guildwood Village Park",
                    null,
                    null,
                    "Coronation Park",
                    "Melody Park",
                    "Elm Park",
                    "Geary Avenue Parkette",
                    "Garrison Creek Park",
                    "Snider Parkette",
                    "Cashman Park",
                    "Northern Linear Park",
                    "Brown's Line Lake Shore Parkette",
                    null,
                    null,
                    null,
                    null,
                    null,
                    "Lakeview Avenue Parkette",
                    "Lee Center Park",
                    "Harbour Square Park West",
                    "Isabella Valancy Crawford Park",
                    "Roundhouse Park",
                    "June Callwood Park",
                    null,
                    "Long Branch Park",
                    "Len Ford Park",
                    "Dunfield Park",
                    null,
                    null,
                    "Cliff Lumsdon Park",
                    "Long Branch Cenotaph",
                    "Twenty-Eighth Street Parkette",
                    "Twenty Fifth Street Parkette",
                    "Twenty Third Street Parkette",
                    "Skeens Lane Parkette",
                    "Lake Shore Teachers College Centre Island",
                    "Sand Beach Road Parkette",
                    "Stadium Road park",
                    "Ingleport Place Parkette",
                    "Westgrove Park",
                    "Dunstable Place Dul-De-Sac",
                    "Eighth Street Park",
                    "Sixth Street Park",
                    "Enfield Park",
                    "Lake Crescent Road End Parkette",
                    "Miles Road End Parkette",
                    null,
                    "Marie Curtis Park",
                    "Hartfield Court Parkette",
                    "Albert Crosland Park",
                    "Dunn Avenue Parkette",
                    "Spencer Cowan Parkette",
                    "David Crombie Park",
                    null,
                    "Queens Avenue Parkette",
                    "Cobble Hills Parkette",
                    "Drumoak Road Parkette",
                    "Edenbrook Park",
                    "Flora Voisey Park",
                    "La Rose Park",
                    null,
                    null,
                    "Beecroft Linear Park",
                    "Lorraine Drive Park",
                    "Bleecker Parkette",
                    "Don Russell Memorial Park",
                    "Elmcrest Park",
                    "Glen Agar Park",
                    "Leavenworth Parkette",
                    "North Mimico Valley Park",
                    "Old Burnhamthorpe Road Parkette",
                    "Seville Avenue Parkette",
                    "Snowellen Avenue Parkette",
                    "Warrender Park",
                    "South Humber Park",
                    "Kerr Hall Quad",
                    "Percy Park",
                    null,
                    null,
                    null,
                    null,
                    "Arcadia Co-operative Backyard",
                    "Ontario Square",
                    null,
                    "Eastdale Playground",
                    "Dundas Parkette",
                    "Downtown Diversity Garden on Elizabeth Street",
                    "Cherry Beach Sports Fields",
                    "Jennifer Kateryna Koval's'kyj Park",
                    "Joseph Burr Tyrell Park",
                    null,
                    "Abbotsford Park",
                    "Acacia Park",
                    "Adams Park",
                    "Adanac Parkette",
                    "Maryland Park",
                    "Agincourt Park",
                    "Don Lake Parkette",
                    "Charlton Park",
                    "Parkway Forest Park",
                    "Glen Ravine Park",
                    "St. Lucie Park",
                    "Michael Power Park",
                    "Glebe Manor Square West",
                    "Oriole Park",
                    "Talbot Park",
                    "Father Caulfield Park",
                    "Trace Manes Park",
                    "Bennington Heights Park",
                    "Mallory Green",
                    "Moorevale Park",
                    "St. Clements - Yonge Parkette",
                    "Brookfield Parkette",
                    "Ruddington Park",
                    "Yorkwoods Park",
                    "Dempsey Park",
                    "Ailsa Craig Parkette",
                    "Alamosa Park",
                    "Alan-Oxford Parkette",
                    "Albert Standing Park",
                    "Albion Arena",
                    "Albion Gardens Park",
                    "Alderwood Memorial Park",
                    "Aldwych Park",
                    "Alex Marchetti Park",
                    "Alex Murray Parkette",
                    "The Alex Wilson Community Garden",
                    "Alexander Park",
                    "Alexandra Park",
                    "Alexmuir Park",
                    null,
                    null,
                    null,
                    "Allan Gardens",
                    "Allanhurst Park",
                    "Alotment Garden Parkette",
                    "Amberdale Ravine",
                    "Ambrose Parkette",
                    "Ames Park",
                    "Ames Park",
                    "Amesbury Park",
                    "Amos Waites Park",
                    "Amsterdam Square",
                    "Ancaster Park",
                    "Avro Park",
                    "Ancona Park",
                    "Aneta Circle Parkette",
                    "Anewan Greenbelt",
                    "Ravina Gardens Park",
                    "Anniversary Park",
                    "Anson Park",
                    "Anthony Road School Park",
                    "Antibes Park",
                    "Apted Park",
                    "Arena Gardens",
                    "Arlington Parkette",
                    "Arsandco Park",
                    "Arthur Dyson Parkette",
                    "Ashbridges Bay Park",
                    "Ashtonbee Reservoir Park",
                    "Asquith Green Park",
                    "Audrelane Park",
                    "Austin Terrace Boulevard Lands",
                    "Avalon Parkette",
                    "Avondale Park",
                    "Avonshire Parkette",
                    "Baby Point Club",
                    "Baird Park",
                    "Bakerton Parkette",
                    "Balcarra Parkette",
                    "Balmoral Park",
                    "Balmy Beach Park",
                    "Bamburgh Park",
                    "Banbury Community Centre",
                    "Banting Park",
                    "Barkdene Park",
                    "Bartlett Parkette",
                    "Bristol Avenue Parkette East",
                    "Bristol Avenue Parkette West",
                    "Bartley Park",
                    "Basswood Parkette",
                    "Bathurst Quay Waters Edge",
                    "Bathurst St Slopes",
                    "Bathurst St Slopes",
                    "Bathurst St Slopes",
                    "Bathurst St Slopes",
                    "Bathurst/Wilson Parkette",
                    "Baycrest Park",
                    "Bayhampton Parkette",
                    null,
                    "Bayview Arena Park",
                    "Bayview Village Park",
                    "Bayview/York Mills Parkette",
                    "Beaty Avenue Parkette",
                    "Beaty Boulevard Parkette",
                    "Budapest Park",
                    "Beaumonde Heights Park",
                    "Beaumonde Heights Park",
                    "Beaumonde Heights Park",
                    "Beaumont Park",
                    "Beaver Lightbourn Parkette",
                    "Bedford Parkette",
                    "Brookdale Park",
                    "Brookdale Park",
                    "Beechgrove Ravine",
                    "Beecroft Park",
                    "Bell Manor Park",
                    "Bellamy Road Tot Lot",
                    "Bellbury Park",
                    "Bellbury Park",
                    "Bellevue Square Park",
                    "Belmar Park",
                    "Downsview Dells Park",
                    "Belmont Parkette",
                    "Bemersyde Drive Cul-De-Sac",
                    "Bendale Park",
                    "Benjamin Boake Greenbelt",
                    "Benner Park",
                    "Bennett Park",
                    "Berczy Park",
                    "Beresford Park",
                    "Beresford Park",
                    "Bernard Avenue Road Allowance",
                    "Berner Trail Park",
                    "Berry Road Park",
                    "Bert Robinson Park",
                    "Haverson Park",
                    "Bessarion Parkette",
                    "Bestview Park",
                    "Bethune Park",
                    "Beverly Glen Park",
                    "Birchcrest Park",
                    "Chester Le Park",
                    "Bickford Park",
                    "Bill Hancox Park",
                    "Bill Johnston Park",
                    null,
                    "Birch Park",
                    "Birchmount Park",
                    "Birchmount/Parkette Traffic Island",
                    "Birchview Boulevard Parkette",
                    "Birkdale Community Centre",
                    "Birkdale Ravine",
                    "Birunthan Park",
                    "Bishop Park",
                    "Bisset Park",
                    "Black Creek Parkland",
                    "Black Creek Parkland",
                    "Black Creek Site East",
                    "Black Creek Park West",
                    "Blantyre Park",
                    "Rekai Family Parkette",
                    "Bloordale Park",
                    "Bloordale Park",
                    "Bob Hunter Greenspace",
                    null,
                    "Bond Park",
                    "Boswell Parkette",
                    "Highland Creek Community Park",
                    "Boulton Drive Parkette",
                    "Bowan Court Parkette",
                    "Boyington Property",
                    "Bramber Woods Park",
                    "Bratty Park",
                    "Brendwin Circle",
                    "Briar Hill Chaplin Parkette",
                    "Briarcrest Park",
                    "Bridletowne Park",
                    "Bridlewood Park",
                    "Bridlewood Park",
                    "Bright Street Playground",
                    "Brimley Woods",
                    "Broadacres Park",
                    "Broadlands Park",
                    "Brookbanks Park",
                    "Brookbanks Park",
                    "Brookbanks Park",
                    "Brookbanks Park",
                    "Brooks Road Park",
                    "Brookwell Park",
                    "Bruce Mackey Park",
                    "The Doctors' Parkette",
                    "Budd Sugarman Park",
                    "Burnett Park",
                    "Burnhamill Park",
                    null,
                    "Burnside Dr Boulevard",
                    "Burrows Hall Park",
                    "Burrows Hall Park",
                    "Burrows Hall Park",
                    null,
                    "Buttonwood Park",
                    "Dixon Park",
                    "Byng Park",
                    "Six Points Park",
                    "Willowridge Park",
                    null,
                    "Parliament Square Park",
                    "Metrogate Park",
                    "Joel Weeks Park",
                    "Avonshire Park",
                    "Widdicombe Hill Park",
                    "Kenaston Gardens Parkette",
                    "Lawrence-Kennedy Parkette",
                    "Corktown Common",
                    "St Stevens Court Parkette",
                    "Cherry Beach Clarke Beach Park",
                    "Lawren Harris Square",
                    "Kinsdale Park",
                    null,
                    "Park Lawn Park",
                    "Park Lawn Park",
                    null,
                    "Wychwood Parkette",
                    "Mount Royal Parkette",
                    "J.T.Watson Park",
                    "Clover Hill Park",
                    "Four Seasons Parkette",
                    "Trudelle Street Park",
                    "Gibson Park",
                    "Charles G. Williams Park",
                    "Ravina Gardens Park",
                    "Connaught Circle Parkette",
                    "Dundas Roncesvalles Peace Garden",
                    "Turnberry South Park31",
                    "Olympia Park",
                    "Old Sheppard Park",
                    "Maria Street Parkette",
                    null,
                    "Sunnyside Park",
                    null,
                    null,
                    "Douglas Ford Park",
                    "Douglas Ford Park",
                    "Regent Park",
                    null,
                    "Sunnybrook Parkette",
                    "Coe Hill Drive Parkette",
                    "Ormskirk Park",
                    "South Kingsway Parkette",
                    "Waller Avenue Ravine Lands",
                    "Windermere Avenue Parkette",
                    "Regent Park Athletic Grounds",
                    "Bonspiel Park",
                    null,
                    "Bathurst Quay Waters Edge",
                    "Caroline Huebner Parkette",
                    "Wellesley - Magill Park",
                    "McCowan District Park",
                    "Little Trinity Church Park",
                    "Davenport Village Park",
                    "Woodbine Beach Park",
                    null,
                    "Euclid Avenue Parkette",
                    "Dufferin-King Park",
                    "Paul E. Garfinkel Park",
                    null,
                    "Janda Park",
                    "Triple Crown Parkette",
                    "Woolenscote Parkette",
                    "Hollis-Kalmar Park",
                    null,
                    null,
                    null,
                    "Shaw Park",
                    null,
                    "Hubbard Park",
                    "Memorial Park",
                    "Montague Parkette",
                    "Senator Marian Maloney Park",
                    null,
                    "Irene Avenue Parkette",
                    "Islington Place Park",
                    null,
                    "Cairns Ave Parkette",
                    "Maughan Crescent Parkette",
                    "Edgewood Parkette",
                    "Market Lane Park",
                    "Habitant Park",
                    "Dundas-Watkinson Parkette",
                    null,
                    "Salem Parkette",
                    null,
                    null,
                    "Stephen Wallace Parkette",
                    "Knights of Columbus Park",
                    "Lee Lifeson Art Park",
                    "Joseph Bannon Park",
                    "Gateway Park",
                    "Erica Stark Parkette",
                    null,
                    "Greystone Park",
                    "Glen Sheppard Park",
                    "Summerlea Park",
                    "Pitman Quad",
                    "Woolner Park",
                    null,
                    null,
                    "Seneca Hill Outdoor Field",
                    "Bohemian Embassy Courtyard",
                    "Senator Peter Bosa Parkette",
                    "Gibson Square Parkette",
                    "St Paul's Parkette",
                    "Fairford Avenue Parkette",
                    null,
                    "McGill Parkette",
                    null,
                    "James Trimbee Park",
                    "Dubary Parkette",
                    "Cawthra Playground",
                    "RIcardo Parkette",
                    null,
                    "Van Horne Park",
                    null,
                    "Hillsborough Park",
                    "Palace Pier Park",
                    "Casa Loma Parkette",
                    "Coulter Avenue Parkette",
                    null,
                    "Fred Young Park",
                    "Woodsworth Park",
                    "Whitehall Parkette",
                    "Trillium Park",
                    null,
                    null,
                    null,
                    "Hoptree Park",
                    "Pleasant View Parkette",
                    "Dufferin Amphitheatre",
                    null,
                    null,
                    null,
                    "McKee Parkette",
                    null,
                    "Morningside Church Park Area",
                    null,
                    null,
                    null,
                    null,
                    null,
                    null,
                    null,
                    null,
                    "Marble Hill Parkette",
                    "Colonel Danforth Park",
                    null,
                    "The Tollkeeper's Park",
                    "Oak Street Park",
                    "Port Union Waterfront Park",
                    "Golf Club Parkette",
                    null,
                    null,
                    null,
                    null,
                    null,
                    null,
                    "Mornelle Commons",
                    "Duncan Creek Park",
                    "Jeff Healey Park",
                    null,
                    "Princess Park",
                    "Kempford Parkette",
                    "Corvette Park",
                    "St. Andrews Park",
                    "Ionview Park",
                    null,
                    null,
                    "Franklin Park",
                    null,
                    "The Roy McMurtry Green",
                    "Elward-Mansion Parkette",
                    "Craigleigh Gardens",
                    "Lillian H. Smith Park",
                    "Don Mills Local Park",
                    "Sugar Beach North",
                    null,
                    null,
                    null,
                    "Joseph Workman Park",
                    "Jane Osler Park",
                    null,
                    "Edwards Gardens",
                    "Toronto Botanical Garden",
                    null,
                    "Joyce Trimmer Park",
                    "Pessoa Park",
                    "Melbourne Avenue Parkette",
                    null,
                    "Sir Adam Beck Park",
                    null,
                    null,
                    null,
                    null,
                    null,
                    "Oakdale Village Park",
                    null,
                    null,
                    "Thackeray Park",
                    null,
                    null,
                    null,
                    null,
                    null,
                    null,
                    null,
                    null,
                    "Kiwanis Parkette",
                    "Arbo Park",
                    null,
                    "Cruickshank Park",
                    null,
                    null,
                    null,
                    "Cy Townsend Park",
                    "Earl Bales Park",
                    "John Chang Neighbourhood Park",
                    null,
                    "Julius Deutsch Park",
                    "Glasgow Street Parkette",
                    null,
                    null,
                    "Syd Cole Park",
                    "Willard Gardens Parkette",
                    "Degrassi Street Park",
                    "Northumberland Playground",
                    "West Mall Outdoor Artifical Ice Rink",
                    "Lambton Park",
                    "Centennial Park",
                    "Grey Parkette",
                    null,
                    null,
                    "Arnell Plaza",
                    null,
                    null,
                    null,
                    null,
                    null,
                    null,
                    null,
                    null,
                    null,
                    null,
                    null,
                    null,
                    "Sanwood Park",
                    "Jeanette Park",
                    null,
                    null,
                    null,
                    null,
                    null,
                    "Hummingbird Park",
                    null,
                    "McCleary Playground",
                    "Riverside Common Park",
                    "Langford Parkette",
                    null,
                    null,
                    null,
                    "Denfield Park",
                    null,
                    "Aitken Place Park",
                    null,
                    null,
                    null,
                    "Spadina Road Park",
                    null,
                    null,
                    null,
                    "Cudmore Creek Park",
                    "Ward's Island Park",
                    null,
                    null,
                    "Thorogood Gardens",
                    "Saulter Street Parkette",
                    null,
                    "Home Smith Park",
                    "Étienne Brûlé Park",
                    "Stanley Greene Park",
                    null,
                    null,
                    "Malvern Rock Garden",
                    null,
                    null,
                    null,
                    "Kilgour Parkette",
                    "Bike park",
                    "Dufferin Hill Park",
                    null,
                    null,
                    "Ontario Street Parkette",
                    "Montclair Avenue Parkette",
                    "James Canning Gardens",
                    null,
                    "GECo Park",
                    "Honey & Barry Community Park",
                    null,
                    "Playter Gardens Park",
                    "Academy Soccer Field",
                    null,
                    null,
                    null,
                    null,
                    null,
                    null,
                    null,
                    null,
                    "Art Eggleton Park",
                    null,
                    "Manor Community Green",
                    null,
                    "Lower Field",
                    "Robert Street Playground",
                    "Hillingdon - Woodrow Parkette",
                    null,
                    "Love Crescent Parkette",
                    "Silverthorn Parkette",
                    null,
                    null,
                    null,
                    null,
                    "Marlborough Place Parkette",
                    "Kildonan Park",
                    null,
                    null,
                    "Macpherson Avenue Parkette",
                    "Ritchie Avenue Parkette",
                    "Allenbury Park",
                    "David Caplan Park",
                    "Atria North Park",
                    "Atria South Park",
                    "Recreation facilities",
                    "Garnier Park",
                    "Villaways Park",
                    "Traymore Park",
                    "Taylor-Massey Creek Parkette",
                    "Islington Parkette",
                    null,
                    "Cresentwood Park",
                    "Bessborough Parkette",
                    null,
                    "Draper Park",
                    "Hillsdale Avenue Park",
                    "Spadina Park",
                    "Mallow Park",
                    "North Keelesdale Park",
                    "Coronation Park",
                    "High Level Pumping Station Park",
                    "Constable Percy Cummins Parkette",
                    "Linkwood Lane Park",
                    null,
                    null,
                    "Joshua Glover Park",
                    "Lucy Tot Lot",
                    "Shallmar Parkette",
                    "Lawren Harris Park",
                    null,
                    null,
                    "Hazeldean Park",
                    "Leslie Barns Park",
                    "Frankel Lambert Park",
                    null,
                    "Garnier Park",
                    "Susan Tibaldi Parkette",
                    "Harrison-Dovercourt Parkette",
                    null,
                    null,
                    "Angelo Sacco Memorial Field",
                    "Drumsnab Parkette",
                    "Paperbirch Walkway Park",
                    "Rosemary Parkette",
                    "175 The Pond Road Park",
                    "Elmlea Park",
                    "Riverside Drive Parkette",
                    "Vesta Parkette",
                    null,
                    "Nairn Park",
                    "Milner Parkette",
                    "Ledbury Park",
                    "Glengarry Park",
                    "Time and Space Courtyard",
                    "Manhattan Park",
                    "Isaac Devins Park",
                    "Leslie Lookout Park",
                    "Empress Tot Lot",
                    "Walmer Road Parkette",
                    null,
                    "Canon Jackson Park",
                    "Roycroft Park Lands",
                    "Old Mill Site Park",
                    "Asterfield-Plumrose Boulevard Parkette",
                    "Badgerow Parkette",
                    "Ballyconnor Park",
                    "Bayview Parkette",
                    "Bluehaven Park",
                    "Verobeach Parkette",
                    "Humber Sheppard Park",
                    "Louise Russo Park",
                    "Humber Gate Park",
                    "Garland Park",
                    "Esther Lorrie Park",
                    "Thistletown Park",
                    "The Elms Park",
                    "Joseph Tough Park",
                    "Monsignor Fraser College Park",
                    "Sunnydene Park",
                    "Blythdale Greenbelt",
                    "Irma Burman Greenbelt",
                    "Botany Hill Park",
                    "Brandon Avenue Parkette",
                    "Breadalbane Park",
                    "Hillhurst Parkette",
                    "Broadway Avenue Parkette",
                    "Children's Healing Garden",
                    "Joey Swirsky Parkette",
                    null,
                    "Tippet Park",
                    "The Park at CIBC Square",
                    "Grattan Park",
                    "Reading Sprouts Garden",
                    "Lambeth Crescent Parkette",
                    "Hilldowntree Parkette",
                    "Sandy Bruce Park",
                    "Dr. Gordon Chong park",
                    null,
                    "Charles Brereton Park",
                    "Northend Parkette",
                    "Molesworth Square",
                    null,
                    "Zorra Park",
                    "Raccoon Park",
                    "North Kipling Park",
                    "Cudia Park"
                  ],
                  "lat": {
                    "bdata": "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",
                    "dtype": "f8"
                  },
                  "legendgroup": "way",
                  "lon": {
                    "bdata": "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",
                    "dtype": "f8"
                  },
                  "marker": {
                    "color": "#EF553B"
                  },
                  "mode": "markers",
                  "name": "way",
                  "showlegend": true,
                  "subplot": "map",
                  "type": "scattermap"
                },
                {
                  "hovertemplate": "<b>%{hovertext}</b><br><br>type=relation<br>lat=%{lat}<br>lon=%{lon}<extra></extra>",
                  "hovertext": [
                    "Bluffer's Park",
                    "Bobbie Rosenfeld Park",
                    "Parkview Gardens Parkette",
                    "Blackfriar Park",
                    "Underpass Park",
                    "West Toronto Railpath",
                    "E. T. Seton Park",
                    "Toronto Island Park",
                    "Prince Edward Viaduct Parkette",
                    "Logan Avenue Parkette",
                    "Wembley Parkette",
                    "Sherbourne Common",
                    "Wincott Park",
                    "Evergreen Gardens Park",
                    "East Don Parkland",
                    "Bob Acton Park",
                    "Glebe Manor Square East",
                    "Stanley Park",
                    null,
                    "Kay Gardner Beltline Park",
                    "Trinity Bellwoods Park",
                    "Taylor Creek Park",
                    "Biidaasige Park",
                    "Queen's Park",
                    null,
                    null,
                    "Glen Edyth Drive Parkette",
                    "King's Mill Park",
                    "Lambton Park",
                    "Humber Marshes",
                    "Adelaide Place Parkette",
                    "West Humber Parkland",
                    "Morningside Park",
                    "Cortleigh Parkette",
                    "Tom Riley Park",
                    "Dr. Lillian McGregor Park"
                  ],
                  "lat": {
                    "bdata": "0e9W8aHaRUAtge+RKNJFQEHnfwOk00VARfMAFvnYRUCHsTuT7NNFQF6fOetT1EVA6g1SS87aRUDN749SZM9FQK+IqxRM1kVA6AQj5d3WRUBK/JthtNlFQF4wuOaO0kVAoik7/aDYRUAkusIWFtlFQD6V056S5UVAsRMDyeDXRUBPrPgrCdpFQASK/Qo+0kVAnRA66BLaRUB+gWrNoNlFQPrARHLo0kVAC5ANSdLZRUCPOpVnudJFQDyCwG/o1EVAIWtXMhHVRUDaNcbzvtRFQF2f3jHh1kVAp199l63SRUDMpDyp5dRFQImtRbAW0kVA23+ux47SRUCb5h2n6N1FQF5SEJd340VAJW66Cs7aRUC0lIfgE9NFQLJcgMcB1UVA",
                    "dtype": "f8"
                  },
                  "legendgroup": "relation",
                  "lon": {
                    "bdata": "DDjwDwDPU8DyfXGpythTwDbuKCkL3lPAl9F+WvvjU8CX22IjtdZTwC+x6Ize3FPAkaOUa+XVU8A5qXnYVdhTwM2RlV+G11PAWF5N+WvWU8AzPoLRm9tTwHKBcKpa11PAz3nX6jzjU8BzuFZ72NdTwEUAJl8/2FPAXSvrSL/SU8C9rrppjthTwB40u+4t2lPAWyTtRp/bU8D9uKI5V9pTwEfJq3OM2lPAnaPpRx7UU8C/9bx2RNZTwH4IYLkU2VPALiUmAxvZU8BBTvPpDNlTwKC6Xj/p2VPAkVrN36nfU8Cej9cokOBTwNktXRzw3lPAPc9EfbfZU8BhH/hzZeRTwOBQUyaQzVPAG4F4XT/bU8C3BIXmX+FTwINB49Ot2FPA",
                    "dtype": "f8"
                  },
                  "marker": {
                    "color": "#00cc96"
                  },
                  "mode": "markers",
                  "name": "relation",
                  "showlegend": true,
                  "subplot": "map",
                  "type": "scattermap"
                }
              ],
              "layout": {
                "height": 500,
                "legend": {
                  "title": {
                    "text": "type"
                  },
                  "tracegroupgap": 0
                },
                "map": {
                  "center": {
                    "lat": 43.708735115230226,
                    "lon": -79.39743522898465
                  },
                  "domain": {
                    "x": [
                      0,
                      1
                    ],
                    "y": [
                      0,
                      1
                    ]
                  },
                  "style": "carto-positron",
                  "zoom": 11
                },
                "mapbox": {
                  "center": {
                    "lat": 43.708735115230226,
                    "lon": -79.39743522898465
                  },
                  "style": "carto-positron",
                  "zoom": 11
                },
                "margin": {
                  "t": 60
                },
                "template": {
                  "data": {
                    "bar": [
                      {
                        "error_x": {
                          "color": "#2a3f5f"
                        },
                        "error_y": {
                          "color": "#2a3f5f"
                        },
                        "marker": {
                          "line": {
                            "color": "#E5ECF6",
                            "width": 0.5
                          },
                          "pattern": {
                            "fillmode": "overlay",
                            "size": 10,
                            "solidity": 0.2
                          }
                        },
                        "type": "bar"
                      }
                    ],
                    "barpolar": [
                      {
                        "marker": {
                          "line": {
                            "color": "#E5ECF6",
                            "width": 0.5
                          },
                          "pattern": {
                            "fillmode": "overlay",
                            "size": 10,
                            "solidity": 0.2
                          }
                        },
                        "type": "barpolar"
                      }
                    ],
                    "carpet": [
                      {
                        "aaxis": {
                          "endlinecolor": "#2a3f5f",
                          "gridcolor": "white",
                          "linecolor": "white",
                          "minorgridcolor": "white",
                          "startlinecolor": "#2a3f5f"
                        },
                        "baxis": {
                          "endlinecolor": "#2a3f5f",
                          "gridcolor": "white",
                          "linecolor": "white",
                          "minorgridcolor": "white",
                          "startlinecolor": "#2a3f5f"
                        },
                        "type": "carpet"
                      }
                    ],
                    "choropleth": [
                      {
                        "colorbar": {
                          "outlinewidth": 0,
                          "ticks": ""
                        },
                        "type": "choropleth"
                      }
                    ],
                    "contour": [
                      {
                        "colorbar": {
                          "outlinewidth": 0,
                          "ticks": ""
                        },
                        "colorscale": [
                          [
                            0,
                            "#0d0887"
                          ],
                          [
                            0.1111111111111111,
                            "#46039f"
                          ],
                          [
                            0.2222222222222222,
                            "#7201a8"
                          ],
                          [
                            0.3333333333333333,
                            "#9c179e"
                          ],
                          [
                            0.4444444444444444,
                            "#bd3786"
                          ],
                          [
                            0.5555555555555556,
                            "#d8576b"
                          ],
                          [
                            0.6666666666666666,
                            "#ed7953"
                          ],
                          [
                            0.7777777777777778,
                            "#fb9f3a"
                          ],
                          [
                            0.8888888888888888,
                            "#fdca26"
                          ],
                          [
                            1,
                            "#f0f921"
                          ]
                        ],
                        "type": "contour"
                      }
                    ],
                    "contourcarpet": [
                      {
                        "colorbar": {
                          "outlinewidth": 0,
                          "ticks": ""
                        },
                        "type": "contourcarpet"
                      }
                    ],
                    "heatmap": [
                      {
                        "colorbar": {
                          "outlinewidth": 0,
                          "ticks": ""
                        },
                        "colorscale": [
                          [
                            0,
                            "#0d0887"
                          ],
                          [
                            0.1111111111111111,
                            "#46039f"
                          ],
                          [
                            0.2222222222222222,
                            "#7201a8"
                          ],
                          [
                            0.3333333333333333,
                            "#9c179e"
                          ],
                          [
                            0.4444444444444444,
                            "#bd3786"
                          ],
                          [
                            0.5555555555555556,
                            "#d8576b"
                          ],
                          [
                            0.6666666666666666,
                            "#ed7953"
                          ],
                          [
                            0.7777777777777778,
                            "#fb9f3a"
                          ],
                          [
                            0.8888888888888888,
                            "#fdca26"
                          ],
                          [
                            1,
                            "#f0f921"
                          ]
                        ],
                        "type": "heatmap"
                      }
                    ],
                    "histogram": [
                      {
                        "marker": {
                          "pattern": {
                            "fillmode": "overlay",
                            "size": 10,
                            "solidity": 0.2
                          }
                        },
                        "type": "histogram"
                      }
                    ],
                    "histogram2d": [
                      {
                        "colorbar": {
                          "outlinewidth": 0,
                          "ticks": ""
                        },
                        "colorscale": [
                          [
                            0,
                            "#0d0887"
                          ],
                          [
                            0.1111111111111111,
                            "#46039f"
                          ],
                          [
                            0.2222222222222222,
                            "#7201a8"
                          ],
                          [
                            0.3333333333333333,
                            "#9c179e"
                          ],
                          [
                            0.4444444444444444,
                            "#bd3786"
                          ],
                          [
                            0.5555555555555556,
                            "#d8576b"
                          ],
                          [
                            0.6666666666666666,
                            "#ed7953"
                          ],
                          [
                            0.7777777777777778,
                            "#fb9f3a"
                          ],
                          [
                            0.8888888888888888,
                            "#fdca26"
                          ],
                          [
                            1,
                            "#f0f921"
                          ]
                        ],
                        "type": "histogram2d"
                      }
                    ],
                    "histogram2dcontour": [
                      {
                        "colorbar": {
                          "outlinewidth": 0,
                          "ticks": ""
                        },
                        "colorscale": [
                          [
                            0,
                            "#0d0887"
                          ],
                          [
                            0.1111111111111111,
                            "#46039f"
                          ],
                          [
                            0.2222222222222222,
                            "#7201a8"
                          ],
                          [
                            0.3333333333333333,
                            "#9c179e"
                          ],
                          [
                            0.4444444444444444,
                            "#bd3786"
                          ],
                          [
                            0.5555555555555556,
                            "#d8576b"
                          ],
                          [
                            0.6666666666666666,
                            "#ed7953"
                          ],
                          [
                            0.7777777777777778,
                            "#fb9f3a"
                          ],
                          [
                            0.8888888888888888,
                            "#fdca26"
                          ],
                          [
                            1,
                            "#f0f921"
                          ]
                        ],
                        "type": "histogram2dcontour"
                      }
                    ],
                    "mesh3d": [
                      {
                        "colorbar": {
                          "outlinewidth": 0,
                          "ticks": ""
                        },
                        "type": "mesh3d"
                      }
                    ],
                    "parcoords": [
                      {
                        "line": {
                          "colorbar": {
                            "outlinewidth": 0,
                            "ticks": ""
                          }
                        },
                        "type": "parcoords"
                      }
                    ],
                    "pie": [
                      {
                        "automargin": true,
                        "type": "pie"
                      }
                    ],
                    "scatter": [
                      {
                        "fillpattern": {
                          "fillmode": "overlay",
                          "size": 10,
                          "solidity": 0.2
                        },
                        "type": "scatter"
                      }
                    ],
                    "scatter3d": [
                      {
                        "line": {
                          "colorbar": {
                            "outlinewidth": 0,
                            "ticks": ""
                          }
                        },
                        "marker": {
                          "colorbar": {
                            "outlinewidth": 0,
                            "ticks": ""
                          }
                        },
                        "type": "scatter3d"
                      }
                    ],
                    "scattercarpet": [
                      {
                        "marker": {
                          "colorbar": {
                            "outlinewidth": 0,
                            "ticks": ""
                          }
                        },
                        "type": "scattercarpet"
                      }
                    ],
                    "scattergeo": [
                      {
                        "marker": {
                          "colorbar": {
                            "outlinewidth": 0,
                            "ticks": ""
                          }
                        },
                        "type": "scattergeo"
                      }
                    ],
                    "scattergl": [
                      {
                        "marker": {
                          "colorbar": {
                            "outlinewidth": 0,
                            "ticks": ""
                          }
                        },
                        "type": "scattergl"
                      }
                    ],
                    "scattermap": [
                      {
                        "marker": {
                          "colorbar": {
                            "outlinewidth": 0,
                            "ticks": ""
                          }
                        },
                        "type": "scattermap"
                      }
                    ],
                    "scattermapbox": [
                      {
                        "marker": {
                          "colorbar": {
                            "outlinewidth": 0,
                            "ticks": ""
                          }
                        },
                        "type": "scattermapbox"
                      }
                    ],
                    "scatterpolar": [
                      {
                        "marker": {
                          "colorbar": {
                            "outlinewidth": 0,
                            "ticks": ""
                          }
                        },
                        "type": "scatterpolar"
                      }
                    ],
                    "scatterpolargl": [
                      {
                        "marker": {
                          "colorbar": {
                            "outlinewidth": 0,
                            "ticks": ""
                          }
                        },
                        "type": "scatterpolargl"
                      }
                    ],
                    "scatterternary": [
                      {
                        "marker": {
                          "colorbar": {
                            "outlinewidth": 0,
                            "ticks": ""
                          }
                        },
                        "type": "scatterternary"
                      }
                    ],
                    "surface": [
                      {
                        "colorbar": {
                          "outlinewidth": 0,
                          "ticks": ""
                        },
                        "colorscale": [
                          [
                            0,
                            "#0d0887"
                          ],
                          [
                            0.1111111111111111,
                            "#46039f"
                          ],
                          [
                            0.2222222222222222,
                            "#7201a8"
                          ],
                          [
                            0.3333333333333333,
                            "#9c179e"
                          ],
                          [
                            0.4444444444444444,
                            "#bd3786"
                          ],
                          [
                            0.5555555555555556,
                            "#d8576b"
                          ],
                          [
                            0.6666666666666666,
                            "#ed7953"
                          ],
                          [
                            0.7777777777777778,
                            "#fb9f3a"
                          ],
                          [
                            0.8888888888888888,
                            "#fdca26"
                          ],
                          [
                            1,
                            "#f0f921"
                          ]
                        ],
                        "type": "surface"
                      }
                    ],
                    "table": [
                      {
                        "cells": {
                          "fill": {
                            "color": "#EBF0F8"
                          },
                          "line": {
                            "color": "white"
                          }
                        },
                        "header": {
                          "fill": {
                            "color": "#C8D4E3"
                          },
                          "line": {
                            "color": "white"
                          }
                        },
                        "type": "table"
                      }
                    ]
                  },
                  "layout": {
                    "annotationdefaults": {
                      "arrowcolor": "#2a3f5f",
                      "arrowhead": 0,
                      "arrowwidth": 1
                    },
                    "autotypenumbers": "strict",
                    "coloraxis": {
                      "colorbar": {
                        "outlinewidth": 0,
                        "ticks": ""
                      }
                    },
                    "colorscale": {
                      "diverging": [
                        [
                          0,
                          "#8e0152"
                        ],
                        [
                          0.1,
                          "#c51b7d"
                        ],
                        [
                          0.2,
                          "#de77ae"
                        ],
                        [
                          0.3,
                          "#f1b6da"
                        ],
                        [
                          0.4,
                          "#fde0ef"
                        ],
                        [
                          0.5,
                          "#f7f7f7"
                        ],
                        [
                          0.6,
                          "#e6f5d0"
                        ],
                        [
                          0.7,
                          "#b8e186"
                        ],
                        [
                          0.8,
                          "#7fbc41"
                        ],
                        [
                          0.9,
                          "#4d9221"
                        ],
                        [
                          1,
                          "#276419"
                        ]
                      ],
                      "sequential": [
                        [
                          0,
                          "#0d0887"
                        ],
                        [
                          0.1111111111111111,
                          "#46039f"
                        ],
                        [
                          0.2222222222222222,
                          "#7201a8"
                        ],
                        [
                          0.3333333333333333,
                          "#9c179e"
                        ],
                        [
                          0.4444444444444444,
                          "#bd3786"
                        ],
                        [
                          0.5555555555555556,
                          "#d8576b"
                        ],
                        [
                          0.6666666666666666,
                          "#ed7953"
                        ],
                        [
                          0.7777777777777778,
                          "#fb9f3a"
                        ],
                        [
                          0.8888888888888888,
                          "#fdca26"
                        ],
                        [
                          1,
                          "#f0f921"
                        ]
                      ],
                      "sequentialminus": [
                        [
                          0,
                          "#0d0887"
                        ],
                        [
                          0.1111111111111111,
                          "#46039f"
                        ],
                        [
                          0.2222222222222222,
                          "#7201a8"
                        ],
                        [
                          0.3333333333333333,
                          "#9c179e"
                        ],
                        [
                          0.4444444444444444,
                          "#bd3786"
                        ],
                        [
                          0.5555555555555556,
                          "#d8576b"
                        ],
                        [
                          0.6666666666666666,
                          "#ed7953"
                        ],
                        [
                          0.7777777777777778,
                          "#fb9f3a"
                        ],
                        [
                          0.8888888888888888,
                          "#fdca26"
                        ],
                        [
                          1,
                          "#f0f921"
                        ]
                      ]
                    },
                    "colorway": [
                      "#636efa",
                      "#EF553B",
                      "#00cc96",
                      "#ab63fa",
                      "#FFA15A",
                      "#19d3f3",
                      "#FF6692",
                      "#B6E880",
                      "#FF97FF",
                      "#FECB52"
                    ],
                    "font": {
                      "color": "#2a3f5f"
                    },
                    "geo": {
                      "bgcolor": "white",
                      "lakecolor": "white",
                      "landcolor": "#E5ECF6",
                      "showlakes": true,
                      "showland": true,
                      "subunitcolor": "white"
                    },
                    "hoverlabel": {
                      "align": "left"
                    },
                    "hovermode": "closest",
                    "mapbox": {
                      "style": "light"
                    },
                    "paper_bgcolor": "white",
                    "plot_bgcolor": "#E5ECF6",
                    "polar": {
                      "angularaxis": {
                        "gridcolor": "white",
                        "linecolor": "white",
                        "ticks": ""
                      },
                      "bgcolor": "#E5ECF6",
                      "radialaxis": {
                        "gridcolor": "white",
                        "linecolor": "white",
                        "ticks": ""
                      }
                    },
                    "scene": {
                      "xaxis": {
                        "backgroundcolor": "#E5ECF6",
                        "gridcolor": "white",
                        "gridwidth": 2,
                        "linecolor": "white",
                        "showbackground": true,
                        "ticks": "",
                        "zerolinecolor": "white"
                      },
                      "yaxis": {
                        "backgroundcolor": "#E5ECF6",
                        "gridcolor": "white",
                        "gridwidth": 2,
                        "linecolor": "white",
                        "showbackground": true,
                        "ticks": "",
                        "zerolinecolor": "white"
                      },
                      "zaxis": {
                        "backgroundcolor": "#E5ECF6",
                        "gridcolor": "white",
                        "gridwidth": 2,
                        "linecolor": "white",
                        "showbackground": true,
                        "ticks": "",
                        "zerolinecolor": "white"
                      }
                    },
                    "shapedefaults": {
                      "line": {
                        "color": "#2a3f5f"
                      }
                    },
                    "ternary": {
                      "aaxis": {
                        "gridcolor": "white",
                        "linecolor": "white",
                        "ticks": ""
                      },
                      "baxis": {
                        "gridcolor": "white",
                        "linecolor": "white",
                        "ticks": ""
                      },
                      "bgcolor": "#E5ECF6",
                      "caxis": {
                        "gridcolor": "white",
                        "linecolor": "white",
                        "ticks": ""
                      }
                    },
                    "title": {
                      "x": 0.05
                    },
                    "xaxis": {
                      "automargin": true,
                      "gridcolor": "white",
                      "linecolor": "white",
                      "ticks": "",
                      "title": {
                        "standoff": 15
                      },
                      "zerolinecolor": "white",
                      "zerolinewidth": 2
                    },
                    "yaxis": {
                      "automargin": true,
                      "gridcolor": "white",
                      "linecolor": "white",
                      "ticks": "",
                      "title": {
                        "standoff": 15
                      },
                      "zerolinecolor": "white",
                      "zerolinewidth": 2
                    }
                  }
                }
              }
            }
          },
          "metadata": {},
          "output_type": "display_data"
        }
      ],
      "source": [
        "fig = px.scatter_map(\n",
        "    df, lat=\"lat\", lon=\"lon\",\n",
        "    color=\"type\",          # or category if available\n",
        "    hover_name=\"name\",\n",
        "    map_style=\"carto-positron\",\n",
        "    zoom=11, height=500\n",
        ")\n",
        "fig.show()"
      ]
    }
  ],
  "metadata": {
    "colab": {
      "authorship_tag": "ABX9TyM6NH4IPI4XX/gSKFWVhr3v",
      "include_colab_link": true,
      "provenance": []
    },
    "kernelspec": {
      "display_name": "Python 3",
      "name": "python3"
    },
    "language_info": {
      "name": "python"
    }
  },
  "nbformat": 4,
  "nbformat_minor": 0
}
